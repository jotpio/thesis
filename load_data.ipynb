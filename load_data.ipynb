{
 "cells": [
  {
   "cell_type": "code",
   "execution_count": null,
   "id": "f9247050-82b0-4ee9-8350-774682edf26a",
   "metadata": {},
   "outputs": [],
   "source": [
    "%load_ext autoreload\n",
    "%autoreload 2\n",
    "%matplotlib inline\n",
    "\n",
    "import os,sys,glob,random, re, copy, time, itertools\n",
    "from tqdm.notebook import trange, tqdm\n",
    "import numpy as np\n",
    "import pandas as pd\n",
    "from datetime import datetime\n",
    "import matplotlib.pyplot as plt\n",
    "import seaborn as sns\n",
    "sns.set_theme()\n",
    "sns.set()\n",
    "\n",
    "# from load_data import load_robot_data, load_fish_data, load_behavior_data\n",
    "from extend_robot_data import extend_robot_data\n",
    "from plot import plot_all_positions, plot_runs, circular_hist, plot_starts_ends, plot_rotations_and_heatmap, plot_inter_individual_distances, plot_run_length_hist, plot_robot_distance_goal, plot_runlength_dist_goal_target_corr\n",
    "from plot_usage_statistics import plot_weekday_business, plot_daily_number_runs, plot_time_of_day_histogram, plot_daily_use_times_and_operational_times, plot_daily_start_end_times\n",
    "from util import filter_dates_dict_for_challenge_runs, flatten_2d_list, get_fish_following_per_run, distance, get_fish_pos_per_run, get_challenge_runs, get_successful_runs, get_distance_to_goal, save_dates_to_npz, load_dates_from_npz, get_hours_minutes_seconds_from_decimal_hours, calculate_run_velocity_speed_acceleration\n",
    "from loading_GUI import LoadingGUI\n",
    "\n",
    "from load_data import load_robot_data, load_behavior_data, load_fish_data\n",
    "from clean_data import clean_data\n",
    "    \n",
    "# from importlib import reload  \n",
    "# reload(load_robot_data)\n"
   ]
  },
  {
   "cell_type": "markdown",
   "id": "1e8273ab-787e-46d7-ae0c-dfd7759e86f5",
   "metadata": {
    "tags": []
   },
   "source": [
    "# Load data"
   ]
  },
  {
   "cell_type": "code",
   "execution_count": null,
   "id": "a324ef66-c43a-4a19-a1f7-70b7e93dfeda",
   "metadata": {},
   "outputs": [],
   "source": [
    "# specify start and end date (min: 2021-11-19 ; max: 2022-10-25)\n",
    "start_date = \"2021-11-19\"\n",
    "end_date = \"2021-11-25\""
   ]
  },
  {
   "cell_type": "markdown",
   "id": "b64609e2-c41b-4741-af2b-1b9be0bf2ec1",
   "metadata": {
    "tags": []
   },
   "source": [
    "#### load already parsed files"
   ]
  },
  {
   "cell_type": "code",
   "execution_count": null,
   "id": "269f93e7-b813-4b52-acf4-312bf0c5a1ec",
   "metadata": {
    "scrolled": true,
    "tags": []
   },
   "outputs": [],
   "source": [
    "dates_dict = load_dates_from_npz(start_date, end_date, only_challenges=True)"
   ]
  },
  {
   "cell_type": "markdown",
   "id": "2762bf69-6fef-42fa-ba2f-43a5ce213fde",
   "metadata": {
    "jp-MarkdownHeadingCollapsed": true,
    "tags": []
   },
   "source": [
    "#### parse form logs"
   ]
  },
  {
   "cell_type": "code",
   "execution_count": null,
   "id": "aa2079be-602a-4268-a45b-a4cf1109b3db",
   "metadata": {
    "scrolled": true,
    "tags": []
   },
   "outputs": [],
   "source": [
    "debug=True\n",
    "\n",
    "# parse fom logs\n",
    "\n",
    "# directories\n",
    "base_dir=\"E:/tubCloud/HF_logs/\"\n",
    "# base_dir=\"C:/Users/admin/repos/thesis/logs_16_03_22/\"\n",
    "\n",
    "fish_dir=(base_dir+\"fish\")\n",
    "robot_dir=(base_dir+\"robot\")\n",
    "\n",
    "behavior_dir=(base_dir+\"behavior_prints\")\n",
    "user_input_dir=(base_dir+\"user_input\")\n",
    "\n",
    "# Load robot data\n",
    "dates_dict_robot = load_robot_data(robot_dir, start_date, end_date)\n",
    "\n",
    "dates_dict_robot[end_date].keys()\n",
    "dates_dict = copy.deepcopy(dates_dict_robot)\n",
    "\n",
    "# load behavior print data\n",
    "dates_dict = load_behavior_data(behavior_dir, dates_dict, start_date, end_date)\n",
    "\n",
    "# load fish data\n",
    "dates_dict = load_fish_data(fish_dir, dates_dict, start_date, end_date)\n",
    "\n",
    "# clean data: check if number of fish stay the same in challenge runs and check if target fish starts in correct pos\n",
    "dates_dict = clean_data(dates_dict, debug=debug)\n",
    "\n",
    "print(f\"\\nDone!\")"
   ]
  },
  {
   "cell_type": "markdown",
   "id": "3174aae4-8738-4952-8671-653c0a6d60f8",
   "metadata": {
    "jp-MarkdownHeadingCollapsed": true,
    "tags": []
   },
   "source": [
    "### Extend data"
   ]
  },
  {
   "cell_type": "code",
   "execution_count": null,
   "id": "1b9e4e91-940f-4050-9b41-88805a5ca583",
   "metadata": {
    "scrolled": true,
    "tags": []
   },
   "outputs": [],
   "source": [
    "# Extend robot data\n",
    "dates_dict = extend_robot_data(dates_dict)"
   ]
  },
  {
   "cell_type": "markdown",
   "id": "1d78fdbf-c637-4ed1-9570-379c039a8199",
   "metadata": {
    "jp-MarkdownHeadingCollapsed": true,
    "tags": []
   },
   "source": [
    "### sanity checks"
   ]
  },
  {
   "cell_type": "code",
   "execution_count": null,
   "id": "d57d9654-9d57-48e7-b0b8-ed2fb1a2236c",
   "metadata": {},
   "outputs": [],
   "source": [
    "# challenges and runs same length\n"
   ]
  },
  {
   "cell_type": "code",
   "execution_count": null,
   "id": "0c29787d-af77-4891-bebf-a06c3de1197d",
   "metadata": {
    "scrolled": true,
    "tags": []
   },
   "outputs": [],
   "source": [
    "# detect position jumps (= high acceleration)\n",
    "dates_keys = dates_dict.keys()\n",
    "\n",
    "for date_key in dates_keys:    \n",
    "    date_dict = dates_dict[date_key]\n",
    "    \n",
    "    runs = date_dict[\"runs\"]\n",
    "    for id_run, run in enumerate(runs):\n",
    "        run_accelerations = date_dict[\"accelerations\"][id_run]\n",
    "        # plt.plot(run_accelerations)\n",
    "        # plt.show()\n",
    "\n",
    "        # find accerations over 200\n",
    "        ids_over_accelerations = np.where(np.abs(run_accelerations) > 200)"
   ]
  },
  {
   "cell_type": "code",
   "execution_count": null,
   "id": "54f75d42-caea-451d-9281-0112910e4700",
   "metadata": {},
   "outputs": [],
   "source": [
    "# detect rotation jumps\n"
   ]
  },
  {
   "cell_type": "code",
   "execution_count": null,
   "id": "d0d9b5ae-8d7c-463a-a6ea-d406b070e4e6",
   "metadata": {},
   "outputs": [],
   "source": [
    "# print(dates_dict['2022-02-02'][\"runs\"])\n",
    "test = {'timestamps': dates_dict['2022-02-02']['timestamps'], 'positions': dates_dict['2022-02-02']['positions'], 'fish': dates_dict['2022-02-02']['fish']}\n",
    "pd.DataFrame.from_dict(test).head(100)"
   ]
  },
  {
   "cell_type": "code",
   "execution_count": null,
   "id": "d4d04566-ca59-4a18-8394-57cf63605969",
   "metadata": {
    "scrolled": true,
    "tags": []
   },
   "outputs": [],
   "source": [
    "### check for id skips in run timestamps\n",
    "for date_key in dates_dict.keys():\n",
    "    date_dict = dates_dict[date_key]\n",
    "    date_dict_runs = date_dict[\"runs\"]\n",
    "    date_dict_ts = date_dict[\"timestamps\"]\n",
    "    \n",
    "    start_pointer = 0\n",
    "    for id_run, run in enumerate(date_dict_runs):\n",
    "        if start_pointer != run[0]:\n",
    "            print(f\"timestamps skipped in run {run}: prev-run: {date_dict_runs[id_run-1]}, end last +1: {date_dict_ts[start_pointer]}; run start:{date_dict_ts[run[0]]}\")\n",
    "            print(f\"\\t{start_pointer - run[0]}\")\n",
    "        start_pointer = run[1]+1"
   ]
  },
  {
   "cell_type": "code",
   "execution_count": null,
   "id": "e8bab797-76aa-4eaa-a35d-46f6756ed077",
   "metadata": {},
   "outputs": [],
   "source": [
    "### challenge runs cannot be longer than ~180 seconds\n",
    "for date_key in dates_dict.keys():\n",
    "    date_dict = dates_dict[date_key]\n",
    "    date_dict_runs = date_dict[\"runs\"]\n",
    "    \n",
    "    if len(date_dict_runs) > 0:\n",
    "        # set non challenge runs to zero length for this check\n",
    "        date_run_lengths_masked = np.ma.array(date_dict[\"run_lengths\"], mask=np.invert(date_dict[\"challenges\"]), copy=True, fill_value=0)\n",
    "        date_run_lengths_zerofilled = np.ma.filled(date_run_lengths_masked)\n",
    "        # print(date_run_lengths_zerofilled)\n",
    "        # date_c_run_lengths = np.array(date_dict[\"run_lengths\"])[date_dict[\"challenges\"]]\n",
    "        # print(date_c_run_lengths)\n",
    "        long_c_runs = np.where(date_run_lengths_zerofilled > 185)[0]\n",
    "\n",
    "        # manage too long runs\n",
    "        if len(long_c_runs) > 0:\n",
    "            print(date_run_lengths_zerofilled[long_c_runs])\n",
    "            print(long_c_runs)\n",
    "            for long_run in long_c_runs:\n",
    "                long_run_start = date_dict[\"timestamps\"][date_dict_runs[long_run][0]]\n",
    "                long_run_end = date_dict[\"timestamps\"][date_dict_runs[long_run][1]]\n",
    "                print(f\"long run at: {long_run_start} : {long_run_end}\")\n"
   ]
  },
  {
   "cell_type": "markdown",
   "id": "8d03b0ef-68fc-4868-87bf-fa66e86f5d40",
   "metadata": {
    "tags": []
   },
   "source": []
  },
  {
   "cell_type": "markdown",
   "id": "74f585f6-7d68-4dc2-80f5-70cdaf7081f7",
   "metadata": {
    "jp-MarkdownHeadingCollapsed": true,
    "tags": []
   },
   "source": [
    "***\n",
    "# Plot"
   ]
  },
  {
   "cell_type": "markdown",
   "id": "a7809ed1-3db8-4327-ae02-9536cad4b835",
   "metadata": {
    "jp-MarkdownHeadingCollapsed": true,
    "tags": []
   },
   "source": [
    "### Plot robot positions"
   ]
  },
  {
   "cell_type": "code",
   "execution_count": null,
   "id": "10b778b1-79ef-40d2-af3e-76ae3bbffdaf",
   "metadata": {
    "scrolled": true,
    "tags": []
   },
   "outputs": [],
   "source": [
    "%matplotlib inline\n",
    "# plot all positions\n",
    "plot_all_positions(dates_dict, start_date=start_date, end_date=end_date, challenges=True, only_successful=True)"
   ]
  },
  {
   "cell_type": "markdown",
   "id": "b0c55487-ac0e-4ad0-89c0-565cc8bba5c0",
   "metadata": {
    "tags": []
   },
   "source": [
    "### Plot average rotation and position heatmap"
   ]
  },
  {
   "cell_type": "code",
   "execution_count": null,
   "id": "b772f18b-7483-463e-b6b0-d9c5bae04403",
   "metadata": {
    "scrolled": true,
    "tags": []
   },
   "outputs": [],
   "source": [
    "# plot average rotation and position heatmap\n",
    "%matplotlib inline\n",
    "plot_rotations_and_heatmap(dates_dict, start_date=start_date, end_date=end_date, challenges=True, only_successful=True, ignore_robot_standing=True, polar_density=True)"
   ]
  },
  {
   "cell_type": "markdown",
   "id": "5188d099-057f-47dd-8e1c-9ac94b2f808a",
   "metadata": {
    "jp-MarkdownHeadingCollapsed": true,
    "tags": []
   },
   "source": [
    "### Plot individual runs"
   ]
  },
  {
   "cell_type": "code",
   "execution_count": null,
   "id": "e81271b7-2cce-4576-9c4a-fe4c37fce1a7",
   "metadata": {
    "scrolled": true,
    "tags": []
   },
   "outputs": [],
   "source": [
    "# plot (challenge) runs\n",
    "plot_runs(dates_dict, start_date=\"2022-02-10\", end_date=\"2022-02-10\", challenges=True, only_successful=True)"
   ]
  },
  {
   "cell_type": "markdown",
   "id": "3a62f92d-86f8-4529-87b2-5af6e27c0aed",
   "metadata": {
    "jp-MarkdownHeadingCollapsed": true,
    "tags": []
   },
   "source": [
    "### Plot start and end points of runs"
   ]
  },
  {
   "cell_type": "code",
   "execution_count": null,
   "id": "02cb9fac-580a-40e7-bcc6-1beb7e095755",
   "metadata": {
    "scrolled": true,
    "tags": []
   },
   "outputs": [],
   "source": [
    "# plot start and end points for all (challenge) runs\n",
    "plot_starts_ends(dates_dict, start_date=None, end_date=None, challenges=True, only_successful=True)"
   ]
  },
  {
   "cell_type": "markdown",
   "id": "8dea5ef7-7c47-441b-ba2e-f262bf1a15f0",
   "metadata": {
    "jp-MarkdownHeadingCollapsed": true,
    "tags": []
   },
   "source": [
    "### Plot run length histogram"
   ]
  },
  {
   "cell_type": "code",
   "execution_count": null,
   "id": "e2a62ef8-6e3f-4069-a043-325ed59995cc",
   "metadata": {},
   "outputs": [],
   "source": [
    "# plot run length histogram\n",
    "plot_run_length_hist(dates_dict, start_date=start_date, end_date=None, bin_size=5, challenges=True, only_successful=True)"
   ]
  },
  {
   "cell_type": "markdown",
   "id": "573e749d-b986-4c0f-97ba-277a79c22a0f",
   "metadata": {
    "jp-MarkdownHeadingCollapsed": true,
    "tags": []
   },
   "source": [
    "### Plot inter-individual distances between robot and target fish for all (challenge) runs"
   ]
  },
  {
   "cell_type": "code",
   "execution_count": null,
   "id": "25b8709c-785e-4432-82f8-2157112c31d5",
   "metadata": {
    "scrolled": true,
    "tags": []
   },
   "outputs": [],
   "source": [
    "# plot inter-individual distances between robot and target fish for all (challenge) runs\n",
    "plot_inter_individual_distances(dates_dict, start_date, end_date, challenges=True, only_successful=True, bins=10)"
   ]
  },
  {
   "cell_type": "markdown",
   "id": "3b6e8886-f5de-4ffa-83fa-3a657f2d8825",
   "metadata": {
    "jp-MarkdownHeadingCollapsed": true,
    "tags": []
   },
   "source": [
    "### Plot robot distance to goal over time"
   ]
  },
  {
   "cell_type": "code",
   "execution_count": null,
   "id": "98f0f2a3-0fe1-4ae5-a074-78daa89aa364",
   "metadata": {
    "scrolled": true,
    "tags": []
   },
   "outputs": [],
   "source": [
    "# plot robot distance to goal over time\n",
    "plot_robot_distance_goal(dates_dict, start_date=None, end_date=None, challenges=True, only_successful=True)"
   ]
  },
  {
   "cell_type": "markdown",
   "id": "6b79c045-e57e-47ea-8482-91afc34dba6f",
   "metadata": {
    "jp-MarkdownHeadingCollapsed": true,
    "tags": []
   },
   "source": [
    "### Plot following state\n"
   ]
  },
  {
   "cell_type": "code",
   "execution_count": null,
   "id": "dba44edb-0530-489f-8b39-0ada8ca67ed5",
   "metadata": {},
   "outputs": [],
   "source": [
    "from plot import plot_following1\n",
    "# plot histogram of leading percentages and correlation plot of run length and leading percentage\n",
    "plot_following1(dates_dict, start_date=start_date, end_date=end_date, only_successful=True, challenges=True) "
   ]
  },
  {
   "cell_type": "markdown",
   "id": "a77e25f8-6cff-4a90-bea3-b704421196e3",
   "metadata": {
    "jp-MarkdownHeadingCollapsed": true,
    "tags": []
   },
   "source": [
    "### Plot run length and initial target (fish and zone) dist correlation"
   ]
  },
  {
   "cell_type": "code",
   "execution_count": null,
   "id": "8ff37491-53e3-480b-804a-7f0656c0a9f0",
   "metadata": {},
   "outputs": [],
   "source": [
    "plot_runlength_dist_goal_target_corr(dates_dict, start_date=None, end_date=None, only_successful=True, challenges=True, show=True)"
   ]
  },
  {
   "cell_type": "markdown",
   "id": "6a9b3157-9c1d-483e-b762-2a2e45f67c2d",
   "metadata": {
    "jp-MarkdownHeadingCollapsed": true,
    "tags": []
   },
   "source": [
    "### Plot dist to goal(x) and dist to target(y)"
   ]
  },
  {
   "cell_type": "code",
   "execution_count": null,
   "id": "6976c6c3-b441-48c7-b03e-6f6e25c4a0ea",
   "metadata": {},
   "outputs": [],
   "source": [
    "from util import equalize_arrays\n",
    "a = [[1],[2,2],[3,3,3,3,3]]\n",
    "\n",
    "equalize_arrays(a,0)\n",
    "print(a)\n",
    "np.mean(a,axis=0)"
   ]
  },
  {
   "cell_type": "markdown",
   "id": "ce7ce9e1-f4df-4fc9-9cc1-1aff43a2d3b7",
   "metadata": {
    "jp-MarkdownHeadingCollapsed": true,
    "tags": []
   },
   "source": [
    "### Histogram x distance to target and y turns towards target"
   ]
  },
  {
   "cell_type": "code",
   "execution_count": null,
   "id": "ee7853b9-1f0f-4990-b014-f1857101d742",
   "metadata": {},
   "outputs": [],
   "source": []
  },
  {
   "cell_type": "markdown",
   "id": "bbcc51cd-bd1f-46d9-9975-12ff7bf03554",
   "metadata": {
    "jp-MarkdownHeadingCollapsed": true,
    "tags": []
   },
   "source": [
    "### Plot start positions of target fish"
   ]
  },
  {
   "cell_type": "code",
   "execution_count": null,
   "id": "67a67cf9-fe28-4339-b8e0-32dee7b2cd57",
   "metadata": {},
   "outputs": [],
   "source": [
    "%matplotlib inline\n",
    "only_successful = True\n",
    "challenges = True\n",
    "\n",
    "dates_keys = dates_dict.keys()\n",
    "\n",
    "if start_date is not None:\n",
    "        start_date_dt = datetime.strptime(start_date, '%Y-%m-%d')\n",
    "if end_date is not None:\n",
    "        end_date_dt = datetime.strptime(end_date, '%Y-%m-%d')\n",
    "\n",
    "        \n",
    "all_initial_fish_pos = []\n",
    "for date_key in dates_keys:\n",
    "\n",
    "    # check date \n",
    "    date = datetime.strptime(date_key, '%Y-%m-%d')\n",
    "    if start_date is not None and start_date_dt > date:\n",
    "        continue\n",
    "    if end_date is not None and end_date_dt < date:\n",
    "        continue\n",
    "\n",
    "    # generate data for plots\n",
    "    day_initial_fish_pos = []\n",
    "    date_dict = dates_dict[date_key]\n",
    "\n",
    "    fish_instance = date_dict[\"fish\"]\n",
    "    runs = date_dict[\"runs\"]\n",
    "    if only_successful:\n",
    "        runs, _ = get_successful_runs(runs,date_dict[\"successful\"])\n",
    "    elif challenges:\n",
    "        runs, _ = get_challenge_runs(runs,date_dict[\"challenges\"])\n",
    "    else:\n",
    "        runs = date_dict[\"runs\"]\n",
    "\n",
    "    if len(runs) > 0:\n",
    "        fish_pos_runs = get_fish_pos_per_run(fish_instance,runs)\n",
    "    else:\n",
    "        continue\n",
    "\n",
    "    for id_run, run in enumerate(runs):\n",
    "        fish_pos_this_run = fish_pos_runs[id_run]\n",
    "        robot_pos_run = np.array(date_dict['positions'][run[0]:run[1]])\n",
    "        # sanity check\n",
    "        if len(fish_pos_this_run) != len(robot_pos_run):\n",
    "            print(\"Wrong array lengths: fish and robot\")\n",
    "            assert False\n",
    "        fish1_pos_this_run = np.array([fish[0] for fish in fish_pos_this_run])\n",
    "        \n",
    "        day_initial_fish_pos.append(fish1_pos_this_run[0])\n",
    "    all_initial_fish_pos.append(day_initial_fish_pos)\n",
    "flat_all_initial_fish_pos = []\n",
    "for day_initial_fish_pos in all_initial_fish_pos:\n",
    "    for initial_fish_pos in day_initial_fish_pos:\n",
    "        flat_all_initial_fish_pos.append(initial_fish_pos)\n",
    "flat_all_initial_fish_pos = np.asarray(flat_all_initial_fish_pos)\n",
    "\n",
    "# print(flat_all_initial_fish_pos.shape)\n",
    "\n",
    "fig = plt.figure(figsize=(15,9))\n",
    "plt.xlim(0,2000)\n",
    "plt.ylim(0,2000)\n",
    "plt.scatter(flat_all_initial_fish_pos[:,0], flat_all_initial_fish_pos[:,1])\n",
    "plt.show()"
   ]
  },
  {
   "cell_type": "markdown",
   "id": "22ec0dcc-cbe3-4e81-8b60-e0807669547a",
   "metadata": {
    "jp-MarkdownHeadingCollapsed": true,
    "tags": []
   },
   "source": [
    "### Plot number of fish over time"
   ]
  },
  {
   "cell_type": "code",
   "execution_count": null,
   "id": "194b3fd8-e264-4568-a5fb-07263c1c6b3a",
   "metadata": {},
   "outputs": [],
   "source": []
  },
  {
   "cell_type": "markdown",
   "id": "24746142-1b11-46f2-9f4b-5205236ad99d",
   "metadata": {
    "jp-MarkdownHeadingCollapsed": true,
    "tags": []
   },
   "source": [
    "### Plot usage statistics"
   ]
  },
  {
   "cell_type": "code",
   "execution_count": null,
   "id": "dc996e10-57c3-40a7-871b-985d58c6c868",
   "metadata": {},
   "outputs": [],
   "source": [
    "%matplotlib inline\n",
    "# bar plot average time of day for each run\n",
    "fig = plot_time_of_day_histogram(dates_dict, challenges=False, only_successful=True)"
   ]
  },
  {
   "cell_type": "code",
   "execution_count": null,
   "id": "bc8da314-222e-46e3-8ed4-625618df0e21",
   "metadata": {},
   "outputs": [],
   "source": [
    "%matplotlib inline\n",
    "# bar plot number of (unique) visitors for each day\n",
    "plot_daily_number_runs(dates_dict)"
   ]
  },
  {
   "cell_type": "code",
   "execution_count": null,
   "id": "7d07b4e5-9442-4347-8207-87e7ed703946",
   "metadata": {},
   "outputs": [],
   "source": [
    "%matplotlib inline\n",
    "# plot daily use times and operational times in hours\n",
    "fig = plot_daily_use_times_and_operational_times(dates_dict, to_pdf=False)"
   ]
  },
  {
   "cell_type": "code",
   "execution_count": null,
   "id": "ab691e81-c173-4ac1-9252-4a112922906b",
   "metadata": {},
   "outputs": [],
   "source": [
    "# plot daily start and end times\n",
    "%matplotlib inline\n",
    "plot_daily_start_end_times(dates_dict)"
   ]
  },
  {
   "cell_type": "code",
   "execution_count": null,
   "id": "2607edf0-e593-438c-b37b-3dd23f353d29",
   "metadata": {},
   "outputs": [],
   "source": [
    "fig = plot_weekday_business(dates_dict, show=True)"
   ]
  },
  {
   "cell_type": "markdown",
   "id": "b3d2be22-b37c-4bae-86cb-e5c570a06fa9",
   "metadata": {
    "jp-MarkdownHeadingCollapsed": true,
    "tags": []
   },
   "source": [
    "# Filter challenge data"
   ]
  },
  {
   "cell_type": "code",
   "execution_count": null,
   "id": "c2993cd1-1278-42b4-a802-7911e97ded07",
   "metadata": {},
   "outputs": [],
   "source": [
    "# remove all non challenge data from dates_dict\n",
    "filter_dates_dict_for_challenge_runs(dates_dict)"
   ]
  },
  {
   "cell_type": "markdown",
   "id": "bc3832ea-2036-4cf9-ba34-67eb5f1fbf87",
   "metadata": {
    "tags": []
   },
   "source": [
    "# Save data"
   ]
  },
  {
   "cell_type": "markdown",
   "id": "e5e4338a-94b9-4160-b8c9-2c4a7f03dc5d",
   "metadata": {
    "jp-MarkdownHeadingCollapsed": true,
    "tags": []
   },
   "source": [
    "### npy"
   ]
  },
  {
   "cell_type": "code",
   "execution_count": null,
   "id": "2f71f8b3-efb2-4ce3-9afb-7dc23d944623",
   "metadata": {
    "scrolled": true,
    "tags": []
   },
   "outputs": [],
   "source": [
    "# save all loaded dates zo npz\n",
    "save_dates_to_npz(dates_dict, only_challenges=True)"
   ]
  },
  {
   "cell_type": "markdown",
   "id": "30defe4e-e2d2-4901-89ba-f5741afd2bf7",
   "metadata": {
    "jp-MarkdownHeadingCollapsed": true,
    "tags": []
   },
   "source": [
    "### compressed npz"
   ]
  },
  {
   "cell_type": "code",
   "execution_count": null,
   "id": "55cc6392-f1b5-4b2e-9baa-6d3438feb2ab",
   "metadata": {},
   "outputs": [],
   "source": [
    "# save to gz file\n",
    "\n",
    "for key in dates_dict.keys():\n",
    "    date = dates_dict[key]\n",
    "    file_name = f\".\\loaded_data\\dates_dict_{key}_compressed.npz\"\n",
    "    print(f\"Saving {key} to {file_name}\")\n",
    "    np.savez(file_name, date)"
   ]
  },
  {
   "cell_type": "markdown",
   "id": "0d9bbf2a-2b29-4c2c-bf0c-ebcbc4451e2d",
   "metadata": {
    "jp-MarkdownHeadingCollapsed": true,
    "tags": []
   },
   "source": [
    "### json"
   ]
  },
  {
   "cell_type": "code",
   "execution_count": null,
   "id": "b30ff72c-ad6f-4fe0-9e44-6441b2f04c13",
   "metadata": {},
   "outputs": [],
   "source": [
    "import json\n",
    "\n",
    "# save day by day into json files\n",
    "for key in dates_dict.keys():\n",
    "    date = dates_dict[key]\n",
    "    file_name = f\".\\loaded_data\\dates_dict_{key}.json\"\n",
    "    print(f\"Saving {key} to {file_name}\")\n",
    "    with open(file_name, 'w') as fp:\n",
    "        json.dump(date, fp)\n"
   ]
  },
  {
   "cell_type": "markdown",
   "id": "e1d1e635-5127-4491-bce3-fd9d217f24a1",
   "metadata": {
    "jp-MarkdownHeadingCollapsed": true,
    "tags": []
   },
   "source": [
    "### hdf5"
   ]
  },
  {
   "cell_type": "code",
   "execution_count": null,
   "id": "802d0b99-6bd7-4888-97ec-6f8a0dc079ce",
   "metadata": {},
   "outputs": [],
   "source": [
    "import h5py\n",
    "hf.close()\n",
    "# save day by day into json files\n",
    "for key in dates_dict.keys():\n",
    "    date_dict = dates_dict[key]\n",
    "    file_name = f\".\\loaded_data\\dates_dict_{key}_compressed.h5\"\n",
    "    print(f\"Saving {key} to {file_name}\")\n",
    "    hf = h5py.File(file_name, 'w')\n",
    "    for dset_name in date_dict:\n",
    "        #print(dset_name)\n",
    "        if dset_name == 'fish':\n",
    "            all_fish_grp = hf.create_group('fish')\n",
    "            for ts, fish_ts in enumerate(date_dict['fish']):\n",
    "                ts_grp = all_fish_grp.create_group(str(ts))\n",
    "                for i, fish in enumerate(fish_ts):\n",
    "                    fish_grp = ts_grp.create_group(str(i))\n",
    "                    for dset_name_fish in fish:\n",
    "                        try:\n",
    "                            fish_grp.create_dataset(dset_name_fish, data = fish[dset_name_fish])\n",
    "                        except Exception as e:\n",
    "                            print(dset_name_fish)\n",
    "                            print(e)\n",
    "                            raise\n",
    "        elif dset_name == 'day_length':\n",
    "            try:\n",
    "                dset = hf.create_dataset(dset_name, data = date_dict[dset_name])\n",
    "            except Exception as e:\n",
    "                print(dset_name)\n",
    "                print(e)\n",
    "                raise\n",
    "        else:\n",
    "            try:\n",
    "                dset = hf.create_dataset(dset_name, data = date_dict[dset_name], compression=\"gzip\")\n",
    "            except Exception as e:\n",
    "                print(dset_name)\n",
    "                print(e)\n",
    "                raise\n",
    "        #print(grp_name, dset_name, data_dict[grp_name][dset_name])\n",
    "    hf.close()"
   ]
  },
  {
   "cell_type": "markdown",
   "id": "1a43ece5-d7bd-45f4-a235-38b1366107a4",
   "metadata": {
    "jp-MarkdownHeadingCollapsed": true,
    "tags": []
   },
   "source": [
    "## deta base"
   ]
  },
  {
   "cell_type": "code",
   "execution_count": null,
   "id": "69026ced-ed63-4726-9372-d89db61800f3",
   "metadata": {},
   "outputs": [],
   "source": [
    "import toml\n",
    "from deta import Deta  # Import Deta\n",
    "\n",
    "\n",
    "# read deta key from secrets\n",
    "project_key = toml.load(\".streamlit\\secrets.toml\")[\"deta_key\"]\n",
    "\n",
    "# Initialize with a Project Key\n",
    "deta = Deta(project_key)\n",
    "\n",
    "# This how to connect to or create a database.\n",
    "#db = deta.Base(\"human_leadership_data\")\n",
    "test = deta.Base(\"test\")\n",
    "\n",
    "'''\n",
    "put(\n",
    "  data: typing.Union[dict, list, str, int, float, bool], \n",
    "  key: str = None,\n",
    "  *,\n",
    "  expire_in: int = None,\n",
    "  expire_at: typing.Union[int, float, datetime.datetime] = None\n",
    ")\n",
    "'''\n",
    "for date_key in dates_dict:\n",
    "    print(date_key)\n",
    "    test.put({\"timestamps\":dates_dict[date_key][\"timestamps\"]}, date_key)\n",
    "    print(test.get(date_key).keys())\n"
   ]
  },
  {
   "cell_type": "markdown",
   "id": "aa5574ea-20f1-4ef1-a94a-15ddf06be147",
   "metadata": {
    "tags": []
   },
   "source": [
    "## deta drive"
   ]
  },
  {
   "cell_type": "code",
   "execution_count": null,
   "id": "475f5b1e-372f-4c83-b971-007898c4db08",
   "metadata": {
    "scrolled": true,
    "tags": []
   },
   "outputs": [],
   "source": [
    "from deta import Deta  # Import Deta\n",
    "\n",
    "# read deta key from secrets\n",
    "project_key = toml.load(\".streamlit\\secrets.toml\")[\"deta_key\"]\n",
    "\n",
    "# Initialize with a Project Key\n",
    "deta = Deta(project_key)\n",
    "\n",
    "# This how to connect to or create a database.\n",
    "drive = deta.Drive(\"human_leadership_data_HF\")\n",
    "date_files = glob.glob(f\".\\loaded_data\\challenges_dates_dict_*.npy\")\n",
    "for file in date_files:\n",
    "    os.path.basename(file)\n",
    "    print(f\"Uploading {file}\")\n",
    "    drive.put(os.path.basename(file), path=file)"
   ]
  },
  {
   "cell_type": "markdown",
   "id": "8809ed41-4e87-4a10-adf1-9e7e7a4f8b28",
   "metadata": {
    "jp-MarkdownHeadingCollapsed": true,
    "tags": []
   },
   "source": [
    "# GUI"
   ]
  },
  {
   "cell_type": "code",
   "execution_count": null,
   "id": "6fb22d79-e9a2-47dc-83c5-eafa67871b1e",
   "metadata": {
    "scrolled": true,
    "tags": []
   },
   "outputs": [],
   "source": [
    "LoadingGUI(base_dir=\"C:/Users/admin/repos/thesis/logs_16_03_22/\")"
   ]
  },
  {
   "cell_type": "markdown",
   "id": "eafb7a43-5ea6-4ee1-8c9a-8f69ff629be9",
   "metadata": {
    "jp-MarkdownHeadingCollapsed": true,
    "tags": []
   },
   "source": [
    "# Testing"
   ]
  },
  {
   "cell_type": "code",
   "execution_count": null,
   "id": "60d6bd16-fe35-467c-baaa-a93815aef25a",
   "metadata": {},
   "outputs": [],
   "source": [
    "a = list(range(100))\n",
    "b = [[0,3],[10,14], [17,21]]\n",
    "\n",
    "c=[]\n",
    "for i in b:\n",
    "    c.append(a[i[0]:i[1]+1])\n",
    "c"
   ]
  },
  {
   "cell_type": "code",
   "execution_count": null,
   "id": "ec33989d-9d08-4d34-b73d-288aa68c5b7f",
   "metadata": {},
   "outputs": [],
   "source": [
    "a=[1,2,3,4]\n",
    "a[5:]"
   ]
  },
  {
   "cell_type": "code",
   "execution_count": null,
   "id": "2631b22f-1765-4eba-bb2d-c1201015d735",
   "metadata": {},
   "outputs": [],
   "source": [
    "dates_dict['2022-02-01'].keys()"
   ]
  },
  {
   "cell_type": "code",
   "execution_count": null,
   "id": "992ab2ba-a84d-4ffa-a7d3-fddb6d4ef51b",
   "metadata": {
    "scrolled": true,
    "tags": []
   },
   "outputs": [],
   "source": [
    "def filter_date_dict_for_challenge_runs(date_dict, challenge_runs, ids_challenge_runs):\n",
    "    filtered_date_dict = dict()\n",
    "    filtered_date_dict['timestamps'] = []\n",
    "    filtered_date_dict['positions'] = []\n",
    "    filtered_date_dict['orientation'] = []\n",
    "    filtered_date_dict['rotation'] = []\n",
    "    filtered_date_dict['runs'] = []\n",
    "    filtered_date_dict['day_length'] = date_dict['day_length']\n",
    "    filtered_date_dict['run_lengths'] = []\n",
    "    filtered_date_dict['difficulties'] = []\n",
    "    filtered_date_dict['fish'] = []\n",
    "    filtered_date_dict['challenges'] = []\n",
    "    filtered_date_dict['successful'] = []\n",
    "    \n",
    "    run_pointer = 0\n",
    "    for challenge_tuple in zip(challenge_runs, ids_challenge_runs):\n",
    "        filtered_date_dict['timestamps'].extend(date_dict['timestamps'][challenge_tuple[0][0]:challenge_tuple[0][1]])\n",
    "        filtered_date_dict['positions'].extend(date_dict['positions'][challenge_tuple[0][0]:challenge_tuple[0][1]])\n",
    "        filtered_date_dict['orientation'].extend(date_dict['orientation'][challenge_tuple[0][0]:challenge_tuple[0][1]])\n",
    "        filtered_date_dict['rotation'].extend(date_dict['rotation'][challenge_tuple[0][0]:challenge_tuple[0][1]])\n",
    "        filtered_date_dict['runs'].append([run_pointer, run_pointer + date_dict['runs'][challenge_tuple[1]][1] - date_dict['runs'][challenge_tuple[1]][0]])\n",
    "        run_pointer = run_pointer + date_dict['runs'][challenge_tuple[1]][1] - date_dict['runs'][challenge_tuple[1]][0] + 1\n",
    "        filtered_date_dict['run_lengths'].append(date_dict['run_lengths'][challenge_tuple[1]])\n",
    "        filtered_date_dict['difficulties'].append(date_dict['difficulties'][challenge_tuple[1]])\n",
    "        filtered_date_dict['fish'].extend(date_dict['fish'][challenge_tuple[0][0]:challenge_tuple[0][1]])\n",
    "        filtered_date_dict['challenges'].append(date_dict['challenges'][challenge_tuple[1]])\n",
    "        filtered_date_dict['successful'].append(date_dict['successful'][challenge_tuple[1]])\n",
    "        \n",
    "\n",
    "    \n",
    "    return filtered_date_dict\n",
    "\n",
    "def filter_dates_dict_for_challenge_runs(dates_dict):\n",
    "    for date_dict_key in dates_dict:\n",
    "        date_dict = dates_dict[date_dict_key]\n",
    "        runs = date_dict['runs']\n",
    "        challenges = date_dict['challenges']\n",
    "        challenge_runs, ids_challenge_runs = get_challenge_runs(runs, challenges)\n",
    "\n",
    "        filtered_date_dict = filter_date_dict_for_challenge_runs(date_dict, challenge_runs, ids_challenge_runs)\n",
    "        #print(date_dict['successful'][0:10], filtered_date_dict['successful'][0:10])\n",
    "        dates_dict[date_dict_key] = filtered_date_dict\n",
    "    "
   ]
  }
 ],
 "metadata": {
  "kernelspec": {
   "display_name": "Python 3 (ipykernel)",
   "language": "python",
   "name": "python3"
  },
  "language_info": {
   "codemirror_mode": {
    "name": "ipython",
    "version": 3
   },
   "file_extension": ".py",
   "mimetype": "text/x-python",
   "name": "python",
   "nbconvert_exporter": "python",
   "pygments_lexer": "ipython3",
   "version": "3.9.0"
  }
 },
 "nbformat": 4,
 "nbformat_minor": 5
}
